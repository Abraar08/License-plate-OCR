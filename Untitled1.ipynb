{
 "cells": [
  {
   "cell_type": "code",
   "execution_count": null,
   "id": "d6452f94",
   "metadata": {},
   "outputs": [],
   "source": [
    "from matplotlib import pyplot as plt\n",
    "\n",
    "plt.imshow(gray)"
   ]
  },
  {
   "cell_type": "code",
   "execution_count": null,
   "id": "d909100f",
   "metadata": {
    "scrolled": true
   },
   "outputs": [],
   "source": [
    "plt.imshow(sharpened)"
   ]
  },
  {
   "cell_type": "code",
   "execution_count": null,
   "id": "4b56f430",
   "metadata": {},
   "outputs": [],
   "source": [
    "import cv2\n",
    "import pytesseract\n",
    "\n",
    "# Read the image file\n",
    "image = cv2.imread(\"C:/Users/moham/ocr_task/plate_images/1094.jpg\")\n",
    "# Convert to Grayscale Image\n",
    "gray_image = cv2.cvtColor(image, cv2.COLOR_BGR2GRAY)\n",
    "\n",
    "#Canny Edge Detection\n",
    "canny_edge = cv2.Canny(gray_image, 170, 200)\n",
    "\n",
    "# Find contours based on Edges\n",
    "contours, new  = cv2.findContours(canny_edge.copy(), cv2.RETR_LIST, cv2.CHAIN_APPROX_SIMPLE)\n",
    "contours=sorted(contours, key = cv2.contourArea, reverse = True)[:30]\n",
    "\n",
    "# Initialize license Plate contour and x,y coordinates\n",
    "contour_with_license_plate = None\n",
    "license_plate = None\n",
    "x = None\n",
    "y = None\n",
    "w = None\n",
    "h = None\n",
    "\n",
    "# Find the contour with 4 potential corners and creat ROI around it\n",
    "for contour in contours:\n",
    "        # Find Perimeter of contour and it should be a closed contour\n",
    "        perimeter = cv2.arcLength(contour, True)\n",
    "        approx = cv2.approxPolyDP(contour, 0.01 * perimeter, True)\n",
    "        if len(approx) == 4: #see whether it is a Rect\n",
    "            contour_with_license_plate = approx\n",
    "            x, y, w, h = cv2.boundingRect(contour)\n",
    "            license_plate = gray_image[y:y + h, x:x + w]\n",
    "            break\n",
    "\n",
    "pytesseract.pytesseract.tesseract_cmd = r'C:/Program Files/Tesseract-OCR/tesseract.exe'\n",
    "\n",
    "# Removing Noise from the detected image, before sending to Tesseract\n",
    "license_plate = cv2.bilateralFilter(license_plate, 11, 17, 17)\n",
    "(thresh, license_plate) = cv2.threshold(license_plate, 150, 180, cv2.THRESH_BINARY)\n",
    "\n",
    "#Text Recognition\n",
    "text = pytesseract.image_to_string(license_plate)\n",
    "#Draw License Plate and write the Text\n",
    "image = cv2.rectangle(image, (x,y), (x+w,y+h), (0,0,255), 3) \n",
    "image = cv2.putText(image, text, (x-100,y-50), cv2.FONT_HERSHEY_SIMPLEX, 3, (0,255,0), 6, cv2.LINE_AA)\n",
    "\n",
    "print(\"License Plate :\", text)\n",
    "\n",
    "# cv2.imshow(\"License Plate Detection\",image)\n",
    "# cv2.waitKey(0)"
   ]
  },
  {
   "cell_type": "code",
   "execution_count": null,
   "id": "ed67376e",
   "metadata": {},
   "outputs": [],
   "source": [
    "image = cv2.imread(\"C:/Users/moham/ocr_task/plate_images/1094.jpg\")"
   ]
  },
  {
   "cell_type": "code",
   "execution_count": null,
   "id": "3449bd65",
   "metadata": {},
   "outputs": [],
   "source": [
    "print(show_results(image))"
   ]
  },
  {
   "cell_type": "code",
   "execution_count": null,
   "id": "2643d825",
   "metadata": {},
   "outputs": [],
   "source": [
    "import os\n",
    "import cv2\n",
    "from jiwer import cer\n",
    "import pytesseract\n",
    "import numpy as np\n",
    "import imutils\n",
    "\n",
    "import re\n",
    "\n",
    "from PIL import Image\n",
    "\n",
    "pytesseract.pytesseract.tesseract_cmd = r'C:/Program Files/Tesseract-OCR/tesseract.exe'\n",
    "\n",
    "# Implement this function that will return a string representing what in seen in the given image\n",
    "def get_plate_text(img) -> str:\n",
    "    \n",
    "#     img = cv2.resize(img, (600,400) )\n",
    "    \n",
    "    gray = cv2.cvtColor(img, cv2.COLOR_BGR2GRAY) #convert to grey scale\n",
    "    gray = cv2.bilateralFilter(gray, 3, 7, 7) #Blur to reduce noise\n",
    "#     gray = cv2.medianBlur(gray,5)\n",
    "    \n",
    "    kernel = np.ones((5, 5), np.uint8)\n",
    "#     gray = cv2.erode(gray, kernel, iterations=1)\n",
    "    gray = cv2.dilate(gray, kernel, iterations=1)\n",
    "    \n",
    "    med_val = np.median(gray) \n",
    "    lower = int(max(0 ,0.7*med_val))\n",
    "    upper = int(min(255,1.3*med_val))\n",
    "\n",
    "    edged = cv2.Canny(gray, lower, upper)\n",
    "    \n",
    "    try:\n",
    "        \n",
    "        cnts = cv2.findContours(edged.copy(), cv2.RETR_TREE, cv2.CHAIN_APPROX_SIMPLE)\n",
    "        cnts = imutils.grab_contours(cnts)\n",
    "        cnts = sorted(cnts, key = cv2.contourArea, reverse = True)[:10]\n",
    "        screenCnt = None\n",
    "\n",
    "        for c in cnts:\n",
    "            peri = cv2.arcLength(c, True)\n",
    "            approx = cv2.approxPolyDP(c, 0.0018 * peri, True)\n",
    "            if len(approx) == 4:\n",
    "                screenCnt = approx\n",
    "                break\n",
    "\n",
    "        mask = np.zeros(gray.shape,np.uint8)\n",
    "        new_image = cv2.drawContours(mask,[screenCnt],0,255,-1,)\n",
    "        new_image = cv2.bitwise_and(image,image,mask=mask)\n",
    "\n",
    "        (x, y) = np.where(mask == 255)\n",
    "        (topx, topy) = (np.min(x), np.min(y))\n",
    "        (bottomx, bottomy) = (np.max(x), np.max(y))\n",
    "        Cropped = gray[topx:bottomx+1, topy:bottomy+1]\n",
    "\n",
    "        text = pytesseract.image_to_string(Cropped, config='-l eng --psm 6 --oem 2')\n",
    "    \n",
    "    except:\n",
    "        \n",
    "        text = pytesseract.image_to_string(gray, config='-l eng --psm 6 --oem 2')\n",
    "        \n",
    "    \n",
    "    return text"
   ]
  },
  {
   "cell_type": "code",
   "execution_count": null,
   "id": "0c97a965",
   "metadata": {
    "scrolled": true
   },
   "outputs": [],
   "source": [
    "img_dir = \"plate_images/\"\n",
    "number_of_plates = 0\n",
    "error = 0.0\n",
    "# Loops through the given directory reading images in\n",
    "for filename in os.listdir(img_dir):\n",
    "    # Loads the image feel free to do this using whatever library you like opencv as an example\n",
    "    img = cv2.imread(os.path.join(img_dir, filename))\n",
    "    # Gets the actual from the file name\n",
    "    actual = filename.split(\"_\")[0]\n",
    "    guess = get_plate_text(img)\n",
    "    \n",
    "    \n",
    "    pattern = r'[A-Z0-9]+'\n",
    "\n",
    "    matches = re.findall(pattern, guess)\n",
    "    merged_string = ''.join(matches)\n",
    "    \n",
    "    print(merged_string)\n",
    "\n",
    "    \n",
    "    # This is one way to get the error of the guess compared to actual feel free to evaluate your algorithm differently\n",
    "    error += cer(actual, merged_string)\n",
    "    number_of_plates += 1\n",
    "\n",
    "accuracy = (1 - error/number_of_plates) * 100\n",
    "print(\"Overall accuracy: \", accuracy)"
   ]
  },
  {
   "cell_type": "code",
   "execution_count": null,
   "id": "ac13772c",
   "metadata": {},
   "outputs": [],
   "source": []
  },
  {
   "cell_type": "code",
   "execution_count": null,
   "id": "419fe986",
   "metadata": {},
   "outputs": [],
   "source": []
  },
  {
   "cell_type": "code",
   "execution_count": null,
   "id": "9d8ea70d",
   "metadata": {
    "scrolled": true
   },
   "outputs": [],
   "source": [
    "import numpy as np\n",
    "from sklearn.model_selection import train_test_split\n",
    "from sklearn.neighbors import KNeighborsClassifier\n",
    "from sklearn.metrics import accuracy_score\n",
    "\n",
    "def fizz_buzz(num):\n",
    "    if num % 15 == 0:\n",
    "        return \"FizzBuzz\"\n",
    "    elif num % 3 == 0:\n",
    "        return \"Fizz\"\n",
    "    elif num % 5 == 0:\n",
    "        return \"Buzz\"\n",
    "    else:\n",
    "        return str(num)\n",
    "\n",
    "def extract_features(num):\n",
    "    return [int(num % 3 == 0), int(num % 5 == 0), int(num % 15 == 0)]\n",
    "\n",
    "# Generate dataset\n",
    "X = np.arange(1, 101).reshape(-1, 1)\n",
    "y = np.array([fizz_buzz(num) for num in X]).reshape(-1, 1)\n",
    "\n",
    "# Split into training and testing sets\n",
    "X_train, X_test, y_train, y_test = train_test_split(X, y, test_size=0.2, random_state=42)\n",
    "\n",
    "# Extract features\n",
    "X_train_feats = np.array([extract_features(num) for num in X_train])\n",
    "X_test_feats = np.array([extract_features(num) for num in X_test])\n",
    "\n",
    "# nsamples, nx, ny = X_train_feats.shape\n",
    "# d2_train_dataset = X_train_feats.reshape((nsamples,nx*ny))\n",
    "\n",
    "# nsamples, nx, ny = X_test_feats.shape\n",
    "# d2_test_dataset = X_test_feats.reshape((nsamples,nx*ny))\n",
    "\n",
    "# Train classifier\n",
    "clf = KNeighborsClassifier(p=2, n_neighbors=3)\n",
    "clf.fit(X_train_feats, y_train)\n",
    "\n",
    "# Evaluate performance\n",
    "y_pred = clf.predict(X_test_feats)\n",
    "accuracy = accuracy_score(y_test, y_pred)\n",
    "print(\"Accuracy: {:.2f}%\".format(accuracy * 100))\n",
    "\n",
    "# Solve FizzBuzz game for any input number\n",
    "num = int(input(\"Enter a number: \"))\n",
    "feat = np.array([extract_features(num)])\n",
    "output = clf.predict(feat)\n",
    "print(output[0])\n"
   ]
  },
  {
   "cell_type": "code",
   "execution_count": 4,
   "id": "983959ff",
   "metadata": {},
   "outputs": [
    {
     "name": "stdout",
     "output_type": "stream",
     "text": [
      "Accuracy: 35.00%\n"
     ]
    }
   ],
   "source": [
    "import numpy as np\n",
    "from sklearn.model_selection import train_test_split\n",
    "from sklearn.tree import DecisionTreeClassifier\n",
    "from sklearn.naive_bayes import GaussianNB\n",
    "from sklearn import svm\n",
    "from sklearn.metrics import accuracy_score\n",
    "\n",
    "def fizz_buzz(num):\n",
    "    if num % 15 == 0:\n",
    "        return \"FizzBuzz\"\n",
    "    elif num % 3 == 0:\n",
    "        return \"Fizz\"\n",
    "    elif num % 5 == 0:\n",
    "        return \"Buzz\"\n",
    "    else:\n",
    "        return str(num)\n",
    "\n",
    "def extract_features(num):\n",
    "    return [int(num % 3 == 0), int(num % 5 == 0), int(num % 15 == 0)]\n",
    "\n",
    "# Generate dataset\n",
    "X = np.arange(1, 101).reshape(-1, 1)\n",
    "y = np.array([fizz_buzz(num) for num in X]).reshape(-1, 1)\n",
    "\n",
    "# Split into training and testing sets\n",
    "X_train, X_test, y_train, y_test = train_test_split(X, y, test_size=0.2, random_state=42)\n",
    "\n",
    "# Extract features\n",
    "X_train_feats = np.array([extract_features(num) for num in X_train])\n",
    "X_test_feats = np.array([extract_features(num) for num in X_test])\n",
    "\n",
    "# nsamples, nx, ny = X_train_feats.shape\n",
    "# d2_train_dataset = X_train_feats.reshape((nsamples,nx*ny))\n",
    "\n",
    "# nsamples, nx, ny = X_test_feats.shape\n",
    "# d2_test_dataset = X_test_feats.reshape((nsamples,nx*ny))\n",
    "\n",
    "# Train classifier\n",
    "clf = DecisionTreeClassifier()\n",
    "clf.fit(X_train_feats, y_train)\n",
    "\n",
    "# Evaluate performance\n",
    "y_pred = clf.predict(X_test_feats)\n",
    "accuracy = accuracy_score(y_test, y_pred)\n",
    "print(\"Accuracy: {:.2f}%\".format(accuracy * 100))"
   ]
  },
  {
   "cell_type": "code",
   "execution_count": 5,
   "id": "7b59b7d0",
   "metadata": {},
   "outputs": [
    {
     "name": "stdout",
     "output_type": "stream",
     "text": [
      "Enter a number: 23\n",
      "[14]\n"
     ]
    }
   ],
   "source": [
    "# Solve FizzBuzz game for any input number\n",
    "num = int(input(\"Enter a number: \"))\n",
    "feat = np.array([extract_features(num)])\n",
    "output = clf.predict(feat)\n",
    "print(output[0])"
   ]
  },
  {
   "cell_type": "code",
   "execution_count": 9,
   "id": "0041af23",
   "metadata": {},
   "outputs": [],
   "source": [
    "import pickle\n",
    "import numpy as np\n",
    "# from sklearn import cross_validation\n",
    "from sklearn.linear_model import LogisticRegression\n",
    "from sklearn.preprocessing import LabelBinarizer\n",
    "\n",
    "def fizz_buzz(i):\n",
    "    if i % 15 == 0:\n",
    "        return \"fizzbuzz\"\n",
    "    elif i % 5 == 0:\n",
    "        return \"buzz\"\n",
    "    elif i % 3 == 0:\n",
    "        return \"fizz\"\n",
    "    else:\n",
    "        return \"\"+str(i)\n",
    "\n",
    "SEQUENCE_LENGTH = 15\n",
    "\n",
    "def build_labeled_samples(samples):\n",
    "    padding = ['PAD'] * SEQUENCE_LENGTH\n",
    "    for i in range(len(samples) - SEQUENCE_LENGTH - 1):\n",
    "        yield [padding + samples[max(0, i - SEQUENCE_LENGTH):i], samples[i]]\n",
    "        padding = padding[1:]\n",
    "\n",
    "def learn():\n",
    "    num_samples = 101\n",
    "    fizz_buzz_samples = [fizz_buzz(i) for i in range(1, num_samples + 1)]\n",
    "    print(\"Samples \" + str(fizz_buzz_samples))\n",
    "    samples = list(build_labeled_samples(fizz_buzz_samples))\n",
    "    labeler = LabelBinarizer()\n",
    "    labeler.fit(fizz_buzz_samples + ['PAD'])\n",
    "\n",
    "    X = np.array([np.array(labeler.transform(x)).flatten() for x, y in samples])\n",
    "    y = np.array([y for x, y in samples])\n",
    "    X_train, X_test, y_train, y_test = X[0:50], X[50:100], y[0:50], y[50:100],\n",
    "\n",
    "    classifier = LogisticRegression(tol=1e-6)\n",
    "    classifier.fit(X_train, y_train)\n",
    "\n",
    "    print(\"Score \" + str(classifier.score(X_test, y_test)))\n",
    "\n",
    "#     with open('binarizer.pkl', 'wb') as binarizer_file:\n",
    "#         pickle.dump(labeler, binarizer_file)\n",
    "#     with open('classifier.pkl', 'wb') as classifier_file:\n",
    "#         pickle.dump(classifier, classifier_file)"
   ]
  },
  {
   "cell_type": "code",
   "execution_count": 24,
   "id": "9da283f0",
   "metadata": {},
   "outputs": [
    {
     "name": "stdout",
     "output_type": "stream",
     "text": [
      "Samples ['1', '2', 'fizz', '4', 'buzz', 'fizz', '7', '8', 'fizz', 'buzz', '11', 'fizz', '13', '14', 'fizzbuzz', '16', '17', 'fizz', '19', 'buzz', 'fizz', '22', '23', 'fizz', 'buzz', '26', 'fizz', '28', '29', 'fizzbuzz', '31', '32', 'fizz', '34', 'buzz', 'fizz', '37', '38', 'fizz', 'buzz', '41', 'fizz', '43', '44', 'fizzbuzz', '46', '47', 'fizz', '49', 'buzz', 'fizz', '52', '53', 'fizz', 'buzz', '56', 'fizz', '58', '59', 'fizzbuzz', '61', '62', 'fizz', '64', 'buzz', 'fizz', '67', '68', 'fizz', 'buzz', '71', 'fizz', '73', '74', 'fizzbuzz', '76', '77', 'fizz', '79', 'buzz', 'fizz', '82', '83', 'fizz', 'buzz', '86', 'fizz', '88', '89', 'fizzbuzz', '91', '92', 'fizz', '94', 'buzz', 'fizz', '97', '98', 'fizz', 'buzz', '101']\n",
      "Score 0.4857142857142857\n"
     ]
    }
   ],
   "source": [
    "num_samples = 101\n",
    "fizz_buzz_samples = [fizz_buzz(i) for i in range(1, num_samples + 1)]\n",
    "print(\"Samples \" + str(fizz_buzz_samples))\n",
    "samples = list(build_labeled_samples(fizz_buzz_samples))\n",
    "labeler = LabelBinarizer()\n",
    "labeler.fit(fizz_buzz_samples + ['PAD'])\n",
    "\n",
    "X = np.array([np.array(labeler.transform(x)).flatten() for x, y in samples])\n",
    "y = np.array([y for x, y in samples])\n",
    "X_train, X_test, y_train, y_test = X[0:50], X[50:100], y[0:50], y[50:100],\n",
    "\n",
    "classifier = LogisticRegression(tol=1e-6)\n",
    "classifier.fit(X_train, y_train)\n",
    "\n",
    "print(\"Score \" + str(classifier.score(X_test, y_test)))"
   ]
  },
  {
   "cell_type": "code",
   "execution_count": 27,
   "id": "14394a73",
   "metadata": {},
   "outputs": [],
   "source": [
    "test = np.array(labeler.transform([23])).flatten()"
   ]
  },
  {
   "cell_type": "code",
   "execution_count": 31,
   "id": "5991a818",
   "metadata": {},
   "outputs": [
    {
     "data": {
      "text/plain": [
       "(58,)"
      ]
     },
     "execution_count": 31,
     "metadata": {},
     "output_type": "execute_result"
    }
   ],
   "source": [
    "test.shape"
   ]
  },
  {
   "cell_type": "code",
   "execution_count": 30,
   "id": "e29f5df9",
   "metadata": {},
   "outputs": [
    {
     "data": {
      "text/plain": [
       "(50, 870)"
      ]
     },
     "execution_count": 30,
     "metadata": {},
     "output_type": "execute_result"
    }
   ],
   "source": [
    "X_train.shape"
   ]
  },
  {
   "cell_type": "code",
   "execution_count": 28,
   "id": "07c37874",
   "metadata": {},
   "outputs": [
    {
     "ename": "ValueError",
     "evalue": "Expected 2D array, got 1D array instead:\narray=[0 0 0 0 0 0 0 0 0 0 1 0 0 0 0 0 0 0 0 0 0 0 0 0 0 0 0 0 0 0 0 0 0 0 0 0 0\n 0 0 0 0 0 0 0 0 0 0 0 0 0 0 0 0 0 0 0 0 0].\nReshape your data either using array.reshape(-1, 1) if your data has a single feature or array.reshape(1, -1) if it contains a single sample.",
     "output_type": "error",
     "traceback": [
      "\u001b[1;31m---------------------------------------------------------------------------\u001b[0m",
      "\u001b[1;31mValueError\u001b[0m                                Traceback (most recent call last)",
      "\u001b[1;32m<ipython-input-28-f6cfd5b534d6>\u001b[0m in \u001b[0;36m<module>\u001b[1;34m\u001b[0m\n\u001b[1;32m----> 1\u001b[1;33m \u001b[0mclassifier\u001b[0m\u001b[1;33m.\u001b[0m\u001b[0mpredict\u001b[0m\u001b[1;33m(\u001b[0m\u001b[0mtest\u001b[0m\u001b[1;33m)\u001b[0m\u001b[1;33m\u001b[0m\u001b[1;33m\u001b[0m\u001b[0m\n\u001b[0m",
      "\u001b[1;32m~\\anaconda3\\lib\\site-packages\\sklearn\\linear_model\\_base.py\u001b[0m in \u001b[0;36mpredict\u001b[1;34m(self, X)\u001b[0m\n\u001b[0;32m    305\u001b[0m             \u001b[0mPredicted\u001b[0m \u001b[1;32mclass\u001b[0m \u001b[0mlabel\u001b[0m \u001b[0mper\u001b[0m \u001b[0msample\u001b[0m\u001b[1;33m.\u001b[0m\u001b[1;33m\u001b[0m\u001b[1;33m\u001b[0m\u001b[0m\n\u001b[0;32m    306\u001b[0m         \"\"\"\n\u001b[1;32m--> 307\u001b[1;33m         \u001b[0mscores\u001b[0m \u001b[1;33m=\u001b[0m \u001b[0mself\u001b[0m\u001b[1;33m.\u001b[0m\u001b[0mdecision_function\u001b[0m\u001b[1;33m(\u001b[0m\u001b[0mX\u001b[0m\u001b[1;33m)\u001b[0m\u001b[1;33m\u001b[0m\u001b[1;33m\u001b[0m\u001b[0m\n\u001b[0m\u001b[0;32m    308\u001b[0m         \u001b[1;32mif\u001b[0m \u001b[0mlen\u001b[0m\u001b[1;33m(\u001b[0m\u001b[0mscores\u001b[0m\u001b[1;33m.\u001b[0m\u001b[0mshape\u001b[0m\u001b[1;33m)\u001b[0m \u001b[1;33m==\u001b[0m \u001b[1;36m1\u001b[0m\u001b[1;33m:\u001b[0m\u001b[1;33m\u001b[0m\u001b[1;33m\u001b[0m\u001b[0m\n\u001b[0;32m    309\u001b[0m             \u001b[0mindices\u001b[0m \u001b[1;33m=\u001b[0m \u001b[1;33m(\u001b[0m\u001b[0mscores\u001b[0m \u001b[1;33m>\u001b[0m \u001b[1;36m0\u001b[0m\u001b[1;33m)\u001b[0m\u001b[1;33m.\u001b[0m\u001b[0mastype\u001b[0m\u001b[1;33m(\u001b[0m\u001b[0mnp\u001b[0m\u001b[1;33m.\u001b[0m\u001b[0mint\u001b[0m\u001b[1;33m)\u001b[0m\u001b[1;33m\u001b[0m\u001b[1;33m\u001b[0m\u001b[0m\n",
      "\u001b[1;32m~\\anaconda3\\lib\\site-packages\\sklearn\\linear_model\\_base.py\u001b[0m in \u001b[0;36mdecision_function\u001b[1;34m(self, X)\u001b[0m\n\u001b[0;32m    280\u001b[0m         \u001b[0mcheck_is_fitted\u001b[0m\u001b[1;33m(\u001b[0m\u001b[0mself\u001b[0m\u001b[1;33m)\u001b[0m\u001b[1;33m\u001b[0m\u001b[1;33m\u001b[0m\u001b[0m\n\u001b[0;32m    281\u001b[0m \u001b[1;33m\u001b[0m\u001b[0m\n\u001b[1;32m--> 282\u001b[1;33m         \u001b[0mX\u001b[0m \u001b[1;33m=\u001b[0m \u001b[0mcheck_array\u001b[0m\u001b[1;33m(\u001b[0m\u001b[0mX\u001b[0m\u001b[1;33m,\u001b[0m \u001b[0maccept_sparse\u001b[0m\u001b[1;33m=\u001b[0m\u001b[1;34m'csr'\u001b[0m\u001b[1;33m)\u001b[0m\u001b[1;33m\u001b[0m\u001b[1;33m\u001b[0m\u001b[0m\n\u001b[0m\u001b[0;32m    283\u001b[0m \u001b[1;33m\u001b[0m\u001b[0m\n\u001b[0;32m    284\u001b[0m         \u001b[0mn_features\u001b[0m \u001b[1;33m=\u001b[0m \u001b[0mself\u001b[0m\u001b[1;33m.\u001b[0m\u001b[0mcoef_\u001b[0m\u001b[1;33m.\u001b[0m\u001b[0mshape\u001b[0m\u001b[1;33m[\u001b[0m\u001b[1;36m1\u001b[0m\u001b[1;33m]\u001b[0m\u001b[1;33m\u001b[0m\u001b[1;33m\u001b[0m\u001b[0m\n",
      "\u001b[1;32m~\\anaconda3\\lib\\site-packages\\sklearn\\utils\\validation.py\u001b[0m in \u001b[0;36minner_f\u001b[1;34m(*args, **kwargs)\u001b[0m\n\u001b[0;32m     71\u001b[0m                           FutureWarning)\n\u001b[0;32m     72\u001b[0m         \u001b[0mkwargs\u001b[0m\u001b[1;33m.\u001b[0m\u001b[0mupdate\u001b[0m\u001b[1;33m(\u001b[0m\u001b[1;33m{\u001b[0m\u001b[0mk\u001b[0m\u001b[1;33m:\u001b[0m \u001b[0marg\u001b[0m \u001b[1;32mfor\u001b[0m \u001b[0mk\u001b[0m\u001b[1;33m,\u001b[0m \u001b[0marg\u001b[0m \u001b[1;32min\u001b[0m \u001b[0mzip\u001b[0m\u001b[1;33m(\u001b[0m\u001b[0msig\u001b[0m\u001b[1;33m.\u001b[0m\u001b[0mparameters\u001b[0m\u001b[1;33m,\u001b[0m \u001b[0margs\u001b[0m\u001b[1;33m)\u001b[0m\u001b[1;33m}\u001b[0m\u001b[1;33m)\u001b[0m\u001b[1;33m\u001b[0m\u001b[1;33m\u001b[0m\u001b[0m\n\u001b[1;32m---> 73\u001b[1;33m         \u001b[1;32mreturn\u001b[0m \u001b[0mf\u001b[0m\u001b[1;33m(\u001b[0m\u001b[1;33m**\u001b[0m\u001b[0mkwargs\u001b[0m\u001b[1;33m)\u001b[0m\u001b[1;33m\u001b[0m\u001b[1;33m\u001b[0m\u001b[0m\n\u001b[0m\u001b[0;32m     74\u001b[0m     \u001b[1;32mreturn\u001b[0m \u001b[0minner_f\u001b[0m\u001b[1;33m\u001b[0m\u001b[1;33m\u001b[0m\u001b[0m\n\u001b[0;32m     75\u001b[0m \u001b[1;33m\u001b[0m\u001b[0m\n",
      "\u001b[1;32m~\\anaconda3\\lib\\site-packages\\sklearn\\utils\\validation.py\u001b[0m in \u001b[0;36mcheck_array\u001b[1;34m(array, accept_sparse, accept_large_sparse, dtype, order, copy, force_all_finite, ensure_2d, allow_nd, ensure_min_samples, ensure_min_features, estimator)\u001b[0m\n\u001b[0;32m    618\u001b[0m             \u001b[1;31m# If input is 1D raise error\u001b[0m\u001b[1;33m\u001b[0m\u001b[1;33m\u001b[0m\u001b[1;33m\u001b[0m\u001b[0m\n\u001b[0;32m    619\u001b[0m             \u001b[1;32mif\u001b[0m \u001b[0marray\u001b[0m\u001b[1;33m.\u001b[0m\u001b[0mndim\u001b[0m \u001b[1;33m==\u001b[0m \u001b[1;36m1\u001b[0m\u001b[1;33m:\u001b[0m\u001b[1;33m\u001b[0m\u001b[1;33m\u001b[0m\u001b[0m\n\u001b[1;32m--> 620\u001b[1;33m                 raise ValueError(\n\u001b[0m\u001b[0;32m    621\u001b[0m                     \u001b[1;34m\"Expected 2D array, got 1D array instead:\\narray={}.\\n\"\u001b[0m\u001b[1;33m\u001b[0m\u001b[1;33m\u001b[0m\u001b[0m\n\u001b[0;32m    622\u001b[0m                     \u001b[1;34m\"Reshape your data either using array.reshape(-1, 1) if \"\u001b[0m\u001b[1;33m\u001b[0m\u001b[1;33m\u001b[0m\u001b[0m\n",
      "\u001b[1;31mValueError\u001b[0m: Expected 2D array, got 1D array instead:\narray=[0 0 0 0 0 0 0 0 0 0 1 0 0 0 0 0 0 0 0 0 0 0 0 0 0 0 0 0 0 0 0 0 0 0 0 0 0\n 0 0 0 0 0 0 0 0 0 0 0 0 0 0 0 0 0 0 0 0 0].\nReshape your data either using array.reshape(-1, 1) if your data has a single feature or array.reshape(1, -1) if it contains a single sample."
     ]
    }
   ],
   "source": [
    "classifier.predict(test)"
   ]
  }
 ],
 "metadata": {
  "kernelspec": {
   "display_name": "Python 3",
   "language": "python",
   "name": "python3"
  },
  "language_info": {
   "codemirror_mode": {
    "name": "ipython",
    "version": 3
   },
   "file_extension": ".py",
   "mimetype": "text/x-python",
   "name": "python",
   "nbconvert_exporter": "python",
   "pygments_lexer": "ipython3",
   "version": "3.8.3"
  }
 },
 "nbformat": 4,
 "nbformat_minor": 5
}
